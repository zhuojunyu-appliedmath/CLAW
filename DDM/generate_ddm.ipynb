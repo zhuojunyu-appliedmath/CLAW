{
 "cells": [
  {
   "cell_type": "code",
   "execution_count": 1,
   "metadata": {},
   "outputs": [],
   "source": [
    "%reload_ext autoreload\n",
    "%autoreload 2"
   ]
  },
  {
   "cell_type": "code",
   "execution_count": 2,
   "metadata": {},
   "outputs": [
    {
     "name": "stderr",
     "output_type": "stream",
     "text": [
      "/Users/zhuojunyu/miniconda3/envs/hssm_env/lib/python3.11/site-packages/tqdm/auto.py:21: TqdmWarning: IProgress not found. Please update jupyter and ipywidgets. See https://ipywidgets.readthedocs.io/en/stable/user_install.html\n",
      "  from .autonotebook import tqdm as notebook_tqdm\n"
     ]
    }
   ],
   "source": [
    "import os, sys\n",
    "import pandas as pd\n",
    "import numpy as np\n",
    "import random\n",
    "import math\n",
    "from future.utils import listvalues\n",
    "from copy import deepcopy\n",
    "import matplotlib.pyplot as plt\n",
    "import seaborn as sns\n",
    "import warnings\n",
    "import statistics\n",
    "import pickle\n",
    "import hssm\n",
    "warnings.filterwarnings(\"ignore\")"
   ]
  },
  {
   "cell_type": "code",
   "execution_count": 5,
   "metadata": {},
   "outputs": [],
   "source": [
    "def fitHDDM(datatable):\n",
    "    \n",
    "    nw_data = pd.DataFrame()\n",
    "    nw_data['response'] = datatable['decision']\n",
    "    nw_data['response'] = nw_data['response'].map({'left':1,'right':-1})\n",
    "    nw_data['rt'] = datatable['decisiondurationplusdelay']/1000.0\n",
    "\n",
    "    model = hssm.HSSM(data=nw_data,model='ddm')\n",
    "    hddm_model = model.sample()\n",
    "\n",
    "    return hddm_model"
   ]
  },
  {
   "cell_type": "code",
   "execution_count": 6,
   "metadata": {},
   "outputs": [
    {
     "name": "stdout",
     "output_type": "stream",
     "text": [
      "Model initialized successfully.\n",
      "Using default initvals. \n",
      "\n"
     ]
    },
    {
     "name": "stderr",
     "output_type": "stream",
     "text": [
      "Auto-assigning NUTS sampler...\n",
      "Initializing NUTS using adapt_diag...\n",
      "Multiprocess sampling (4 chains in 4 jobs)\n",
      "NUTS: [z, a, t, v]\n"
     ]
    },
    {
     "data": {
      "text/html": [
       "<pre style=\"white-space:pre;overflow-x:auto;line-height:normal;font-family:Menlo,'DejaVu Sans Mono',consolas,'Courier New',monospace\"></pre>\n"
      ],
      "text/plain": []
     },
     "metadata": {},
     "output_type": "display_data"
    },
    {
     "name": "stderr",
     "output_type": "stream",
     "text": [
      "Sampling 4 chains for 1_000 tune and 1_000 draw iterations (4_000 + 4_000 draws total) took 3 seconds.\n",
      "100%|██████████| 4000/4000 [00:00<00:00, 30451.82it/s]"
     ]
    },
    {
     "name": "stdout",
     "output_type": "stream",
     "text": [
      "   seed  mean_a     std_a   mean_v    std_v    mean_t    std_t    mean_z  \\\n",
      "0     1  0.1557  0.011034  1.87917  1.01166  0.328088  0.00094  0.464785   \n",
      "\n",
      "      std_z  rt  \n",
      "0  0.047941  98  \n"
     ]
    },
    {
     "name": "stderr",
     "output_type": "stream",
     "text": [
      "\n"
     ]
    }
   ],
   "source": [
    "nseeds = len(next(os.walk('../Data/'))[1])\n",
    "hddm_results = pd.DataFrame()\n",
    "data_dir_all = \"../Data/\"\n",
    "\n",
    "for i in np.arange(1,nseeds+1):\n",
    "    seed_num = i\n",
    "    data_dir = data_dir_all+\"network_\"+str(seed_num)+\"/\"\n",
    "    nw_data = pickle.load(open(data_dir+\"network_\"+str(seed_num)+\".pickle\",\"rb\"))\n",
    "    nw = nw_data[0]\n",
    "    datatable = nw['datatables']\n",
    "    \n",
    "    hddm_model = fitHDDM(datatable)\n",
    "    \n",
    "    hddm_z = hddm_model.posterior['z'].values\n",
    "    hddm_a = hddm_model.posterior['a'].values\n",
    "    hddm_t = hddm_model.posterior['t'].values\n",
    "    hddm_v = hddm_model.posterior['v'].values\n",
    "\n",
    "    di = dict()\n",
    "    di['seed'] = seed_num\n",
    "    di['mean_a'] = hddm_a.mean()\n",
    "    di['std_a'] = hddm_a.std()\n",
    "    di['mean_v'] = hddm_v.mean()\n",
    "    di['std_v'] = hddm_v.std()\n",
    "    di['mean_t'] = hddm_t.mean()\n",
    "    di['std_t'] = hddm_t.std()\n",
    "    di['mean_z'] = hddm_z.mean()\n",
    "    di['std_z'] = hddm_z.std()\n",
    "    di['rt'] = statistics.median(datatable.decisionduration) \n",
    "    di = pd.DataFrame([di])\n",
    "    print(di)\n",
    "    \n",
    "    hddm_results = pd.concat([hddm_results,di])\n",
    "\n",
    "data_dir_store = r\"../DDM/\" \n",
    "hddm_results.to_csv(data_dir_store+\"hddm_results.csv\")"
   ]
  }
 ],
 "metadata": {
  "kernelspec": {
   "display_name": "hssm_env",
   "language": "python",
   "name": "python3"
  },
  "language_info": {
   "codemirror_mode": {
    "name": "ipython",
    "version": 3
   },
   "file_extension": ".py",
   "mimetype": "text/x-python",
   "name": "python",
   "nbconvert_exporter": "python",
   "pygments_lexer": "ipython3",
   "version": "3.11.10"
  }
 },
 "nbformat": 4,
 "nbformat_minor": 2
}
